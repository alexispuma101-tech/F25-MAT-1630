{
  "nbformat": 4,
  "nbformat_minor": 0,
  "metadata": {
    "colab": {
      "provenance": [],
      "authorship_tag": "ABX9TyN4R6A9UXy+wJA6MEFBdSWw",
      "include_colab_link": true
    },
    "kernelspec": {
      "name": "python3",
      "display_name": "Python 3"
    },
    "language_info": {
      "name": "python"
    }
  },
  "cells": [
    {
      "cell_type": "markdown",
      "metadata": {
        "id": "view-in-github",
        "colab_type": "text"
      },
      "source": [
        "<a href=\"https://colab.research.google.com/github/alexispuma101-tech/F25-MAT-1630/blob/main/MAT_1630_9_15_25.ipynb\" target=\"_parent\"><img src=\"https://colab.research.google.com/assets/colab-badge.svg\" alt=\"Open In Colab\"/></a>"
      ]
    },
    {
      "cell_type": "code",
      "source": [
        "failed = True\n",
        "if failed:  # runs only if failed is True\n",
        "   x=0\n",
        "# This program demonstrates comparisons of numbers, using Boolean expressions.\n",
        "\n",
        "\n",
        "x = float(input(\"Enter a number (such as 3.5 or 4.5): \"))\n",
        "y = float(input(\"Enter a second number: \"))\n",
        "\n",
        "if x == y:\n",
        "    print(\"They are the same.\")\n",
        "else:\n",
        "    if x > y:\n",
        "        print(\"The first number is larger\")\n",
        "    else:\n",
        "        print(\"The first number is smaller\")\n",
        "\n",
        "if -0.01 < x - y and x - y < 0.01:\n",
        "    print(\"The numbers are close together\")\n",
        "\n",
        "if x == y + 1 or x == y - 1:\n",
        "    print(\"The numbers are one apart\")\n",
        "\n",
        "if (x > 0 and y > 0) or (x < 0 and y < 0):\n",
        "    print(\"The numbers have the same sign\")\n",
        "else:\n",
        "    print(\"The numbers have different signs\")"
      ],
      "metadata": {
        "colab": {
          "base_uri": "https://localhost:8080/"
        },
        "id": "WCqGOu6rzQ_X",
        "outputId": "1a176c77-bf32-4b26-ae8f-63d68e2d0ff7"
      },
      "execution_count": 2,
      "outputs": [
        {
          "output_type": "stream",
          "name": "stdout",
          "text": [
            "Enter a number (such as 3.5 or 4.5): 3.5\n",
            "Enter a second number: 4.5\n",
            "The first number is smaller\n",
            "The numbers are one apart\n",
            "The numbers have the same sign\n"
          ]
        }
      ]
    },
    {
      "cell_type": "code",
      "source": [
        "# Various string methods that test substrings\n",
        "\n",
        "# Obtain a string and substring from the user.\n",
        "the_string = input(\"Enter a string: \")\n",
        "the_substring = input(\"Enter a substring: \")\n",
        "\n",
        "if the_substring in the_string:\n",
        "    print(\"The string DOES contain the substring.\")\n",
        "\n",
        "    how_many = the_string.count(the_substring)\n",
        "    print(f\" It contains {how_many} instance(s).\")\n",
        "\n",
        "    where = the_string.find(the_substring)  # 0-based index; -1 if not found\n",
        "    print(f\" The first occurrence starts at position {where}.\")\n",
        "\n",
        "    if the_string.startswith(the_substring):\n",
        "        print(\" The string starts with the substring.\")\n",
        "    else:\n",
        "        print(\" The string does not start with the substring.\")\n",
        "\n",
        "    if the_string.endswith(the_substring):\n",
        "        print(\" The string ends with the substring.\")\n",
        "    else:\n",
        "        print(\" The string does not end with the substring.\")\n",
        "else:\n",
        "    print(\"The string does NOT contain the substring.\")\n"
      ],
      "metadata": {
        "colab": {
          "base_uri": "https://localhost:8080/"
        },
        "id": "QKq_SMD93Y76",
        "outputId": "17399afb-fcee-4923-bc2f-f8fa20882acf"
      },
      "execution_count": 12,
      "outputs": [
        {
          "output_type": "stream",
          "name": "stdout",
          "text": [
            "Enter a string: California\n",
            "Enter a substring: for\n",
            "The string DOES contain the substring.\n",
            " It contains 1 instance(s).\n",
            " The first occurrence starts at position 4.\n",
            " The string does not start with the substring.\n",
            " The string does not end with the substring.\n"
          ]
        }
      ]
    },
    {
      "cell_type": "markdown",
      "source": [
        "Exercise 1"
      ],
      "metadata": {
        "id": "z1YZR-YFBCcD"
      }
    },
    {
      "cell_type": "code",
      "source": [
        "name = input(\"Enter a sentence\")\n",
        "\n",
        "if name.isalpha() == True:\n",
        "            print(\"This has only letters\")\n",
        "\n",
        "elif name.isupper() == True:\n",
        "            print(\"This contains only uppercase\")\n",
        "\n",
        "elif name.islower()== True:\n",
        "            print(\"This contains only lowercase\")\n",
        "\n",
        "elif name.isdigit()== True:\n",
        "            print(\"This contains only digits\")\n",
        "\n",
        "elif name.isalnum == True and name.startwith(name.isupper) == True:\n",
        "  print(\"This contains only letters and digits and starts with an uppercase letter.\")\n",
        "\n",
        "elif name.endswith(\".\"):\n",
        "  print(\"This contains a period\")\n",
        "\n",
        "else:\n",
        "  print(name)\n"
      ],
      "metadata": {
        "colab": {
          "base_uri": "https://localhost:8080/"
        },
        "id": "LYeyN_ag5Iby",
        "outputId": "2d512663-2eb4-468e-9e85-3c51c8c16df3"
      },
      "execution_count": 39,
      "outputs": [
        {
          "output_type": "stream",
          "name": "stdout",
          "text": [
            "Enter a sentenceHello1\n",
            "Hello1\n"
          ]
        }
      ]
    },
    {
      "cell_type": "markdown",
      "source": [
        "Exercise 2"
      ],
      "metadata": {
        "id": "Y9zZD1MN-vS_"
      }
    },
    {
      "cell_type": "code",
      "source": [
        "holiday = input(\"Please give me a month and day\")\n",
        "\n",
        "NewYear = \"January 1\"\n",
        "IndependenceDay = \"July 4\"\n",
        "VeteransDay = \"November 11\"\n",
        "ChristmasDay = \"December 25\"\n",
        "\n",
        "if holiday == NewYear:\n",
        "  print(\"Its New Year's Day\")\n",
        "elif holiday == IndependenceDay:\n",
        "  print(\"Its Independence Day\")\n",
        "elif holiday == VeteransDay:\n",
        "  print(\"Its Veterans Day\")\n",
        "elif holiday == ChristmasDay:\n",
        "  print(\"Its Christmas Day\")\n",
        "\n",
        "else:\n",
        "  print(holiday)"
      ],
      "metadata": {
        "colab": {
          "base_uri": "https://localhost:8080/"
        },
        "id": "TEEEjxvS-yEf",
        "outputId": "d9b92bf6-04cc-4706-b41e-0694478b88e9"
      },
      "execution_count": 32,
      "outputs": [
        {
          "output_type": "stream",
          "name": "stdout",
          "text": [
            "Please give me a month and dayDecember 22\n",
            "December 22\n"
          ]
        }
      ]
    },
    {
      "cell_type": "markdown",
      "source": [],
      "metadata": {
        "id": "V3v2lAqRBK1T"
      }
    }
  ]
}